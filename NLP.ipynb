{
 "cells": [
  {
   "cell_type": "markdown",
   "metadata": {},
   "source": [
    "## NLP with TensorFlow"
   ]
  },
  {
   "cell_type": "markdown",
   "metadata": {},
   "source": [
    "From _Deep Learning with Python_ by François Chollet"
   ]
  },
  {
   "cell_type": "code",
   "execution_count": 1,
   "metadata": {},
   "outputs": [],
   "source": [
    "import numpy as np\n",
    "import tensorflow as tf\n",
    "import matplotlib.pyplot as plt\n",
    "\n",
    "from tensorflow.keras import models, layers, optimizers, losses, metrics\n",
    "from tensorflow.keras.datasets import imdb"
   ]
  },
  {
   "cell_type": "code",
   "execution_count": 2,
   "metadata": {},
   "outputs": [],
   "source": [
    "NUM_WORDS = 10000"
   ]
  },
  {
   "cell_type": "code",
   "execution_count": 3,
   "metadata": {},
   "outputs": [],
   "source": [
    "(x_train, y_train), (x_test, y_test) = imdb.load_data(num_words=NUM_WORDS, skip_top=100)"
   ]
  },
  {
   "cell_type": "code",
   "execution_count": 4,
   "metadata": {},
   "outputs": [
    {
     "name": "stdout",
     "output_type": "stream",
     "text": [
      "[2, 2, 2, 2, 2, 530, 973, 1622, 1385, 2, 458, 4468, 2, 3941, 2, 173, 2, 256, 2, 2, 100, 2, 838, 112, 2, 670, 2, 2, 2, 480, 284, 2, 150, 2, 172, 112, 167, 2, 336, 385, 2, 2, 172, 4536, 1111, 2, 546, 2, 2, 447, 2, 192, 2, 2, 2, 147, 2025, 2, 2, 2, 2, 1920, 4613, 469, 2, 2, 2, 2, 2, 2, 2, 530, 2, 2, 2, 2, 1247, 2, 2, 2, 515, 2, 2, 2, 626, 2, 2, 2, 2, 386, 2, 2, 316, 2, 106, 2, 2, 2223, 5244, 2, 480, 2, 3785, 2, 2, 130, 2, 2, 2, 619, 2, 2, 124, 2, 2, 135, 2, 2, 1415, 2, 2, 2, 2, 215, 2, 2, 2, 2, 2, 407, 2, 2, 2, 2, 2, 107, 117, 5952, 2, 256, 2, 2, 2, 3766, 2, 723, 2, 2, 2, 530, 476, 2, 400, 317, 2, 2, 2, 2, 1029, 2, 104, 2, 2, 381, 2, 297, 2, 2, 2071, 2, 2, 141, 2, 194, 7486, 2, 2, 226, 2, 2, 134, 476, 2, 480, 2, 144, 2, 5535, 2, 2, 2, 2, 224, 2, 2, 104, 2, 226, 2, 2, 2, 1334, 2, 2, 2, 283, 2, 2, 4472, 113, 103, 2, 2, 2, 5345, 2, 178, 2]\n",
      "1\n"
     ]
    }
   ],
   "source": [
    "print(x_train[0])\n",
    "print(y_train[0])"
   ]
  },
  {
   "cell_type": "code",
   "execution_count": 5,
   "metadata": {},
   "outputs": [
    {
     "data": {
      "text/plain": [
       "\"? ? ? ? ? brilliant casting location scenery ? direction everyone's ? suited ? part ? played ? ? could ? imagine being ? robert ? ? ? amazing actor ? now ? same being director ? father came ? ? same scottish island ? myself ? ? loved ? fact ? ? ? real connection ? ? ? ? witty remarks throughout ? ? ? ? ? ? ? brilliant ? ? ? ? bought ? ? ? soon ? ? ? released ? ? ? ? recommend ? ? everyone ? watch ? ? fly fishing ? amazing ? cried ? ? end ? ? ? sad ? ? know ? ? say ? ? cry ? ? ? ? must ? ? ? ? ? definitely ? ? ? ? ? two little boy's ? played ? ? ? norman ? paul ? ? ? brilliant children ? often left ? ? ? ? list ? think ? ? stars ? play ? ? grown ? ? such ? big profile ? ? whole ? ? these children ? amazing ? should ? praised ? ? ? ? done ? ? think ? whole ? ? ? lovely ? ? ? true ? ? someone's life after ? ? ? shared ? us ?\""
      ]
     },
     "execution_count": 5,
     "metadata": {},
     "output_type": "execute_result"
    }
   ],
   "source": [
    "reverse_index = {v : k for (k, v) in imdb.get_word_index().items()}\n",
    "# skip \"padding\", \"start of sequence\", and \"unknown\"\n",
    "decoded_review = ' '.join([reverse_index.get(i - 3, '?') for i in x_train[0]])\n",
    "decoded_review"
   ]
  },
  {
   "cell_type": "code",
   "execution_count": 6,
   "metadata": {},
   "outputs": [
    {
     "data": {
      "text/plain": [
       "218"
      ]
     },
     "execution_count": 6,
     "metadata": {},
     "output_type": "execute_result"
    }
   ],
   "source": [
    "len(x_train[0])"
   ]
  },
  {
   "cell_type": "code",
   "execution_count": 7,
   "metadata": {},
   "outputs": [],
   "source": [
    "def vectorize_seqs(seqs, dimension=NUM_WORDS):\n",
    "    # Create an all-zero matrix of shape (len(sequences), dimension)\n",
    "    results = np.zeros(shape=(len(seqs), dimension))\n",
    "    for i, seq in enumerate(seqs):\n",
    "        results[i, seq] = 1.0\n",
    "    return results\n",
    "\n",
    "x_train = vectorize_seqs(x_train)\n",
    "x_test = vectorize_seqs(x_test)"
   ]
  },
  {
   "cell_type": "code",
   "execution_count": 8,
   "metadata": {},
   "outputs": [
    {
     "data": {
      "text/plain": [
       "10000"
      ]
     },
     "execution_count": 8,
     "metadata": {},
     "output_type": "execute_result"
    }
   ],
   "source": [
    "len(x_train[0])"
   ]
  },
  {
   "cell_type": "code",
   "execution_count": 9,
   "metadata": {},
   "outputs": [
    {
     "data": {
      "text/plain": [
       "array([0., 0., 1., ..., 0., 0., 0.])"
      ]
     },
     "execution_count": 9,
     "metadata": {},
     "output_type": "execute_result"
    }
   ],
   "source": [
    "x_train[0]"
   ]
  },
  {
   "cell_type": "code",
   "execution_count": 10,
   "metadata": {},
   "outputs": [],
   "source": [
    "y_train = np.asarray(y_train).astype('float32')\n",
    "y_test = np.asarray(y_test).astype('float32')"
   ]
  },
  {
   "cell_type": "code",
   "execution_count": 11,
   "metadata": {},
   "outputs": [],
   "source": [
    "model = models.Sequential()\n",
    "model.add(layers.Dense(16, activation='relu', input_shape=(NUM_WORDS,)))\n",
    "model.add(layers.Dense(16, activation='relu'))\n",
    "model.add(layers.Dense(1, activation='sigmoid'))"
   ]
  },
  {
   "cell_type": "code",
   "execution_count": 12,
   "metadata": {},
   "outputs": [],
   "source": [
    "model.compile(optimizer=optimizers.RMSprop(lr=0.001),\n",
    "              loss=losses.binary_crossentropy,\n",
    "              #loss=losses.mean_squared_error,\n",
    "              metrics=[metrics.binary_accuracy])"
   ]
  },
  {
   "cell_type": "code",
   "execution_count": 13,
   "metadata": {},
   "outputs": [
    {
     "name": "stdout",
     "output_type": "stream",
     "text": [
      "Train on 21250 samples, validate on 3750 samples\n",
      "Epoch 1/10\n",
      "21250/21250 [==============================] - 1s 60us/sample - loss: 0.4535 - binary_accuracy: 0.8287 - val_loss: 0.3472 - val_binary_accuracy: 0.8725\n",
      "Epoch 2/10\n",
      "21250/21250 [==============================] - 1s 43us/sample - loss: 0.2530 - binary_accuracy: 0.9159 - val_loss: 0.2916 - val_binary_accuracy: 0.8883\n",
      "Epoch 3/10\n",
      "21250/21250 [==============================] - 1s 44us/sample - loss: 0.1892 - binary_accuracy: 0.9355 - val_loss: 0.2917 - val_binary_accuracy: 0.8893\n",
      "Epoch 4/10\n",
      "21250/21250 [==============================] - 1s 47us/sample - loss: 0.1519 - binary_accuracy: 0.9488 - val_loss: 0.3257 - val_binary_accuracy: 0.8811\n",
      "Epoch 5/10\n",
      "21250/21250 [==============================] - 1s 43us/sample - loss: 0.1255 - binary_accuracy: 0.9577 - val_loss: 0.3415 - val_binary_accuracy: 0.8800\n",
      "Epoch 6/10\n",
      "21250/21250 [==============================] - 1s 42us/sample - loss: 0.1029 - binary_accuracy: 0.9667 - val_loss: 0.3844 - val_binary_accuracy: 0.8728\n",
      "Epoch 7/10\n",
      "21250/21250 [==============================] - 1s 43us/sample - loss: 0.0852 - binary_accuracy: 0.9737 - val_loss: 0.4157 - val_binary_accuracy: 0.8749\n",
      "Epoch 8/10\n",
      "21250/21250 [==============================] - 1s 43us/sample - loss: 0.0695 - binary_accuracy: 0.9793 - val_loss: 0.4598 - val_binary_accuracy: 0.8688\n",
      "Epoch 9/10\n",
      "21250/21250 [==============================] - 1s 43us/sample - loss: 0.0580 - binary_accuracy: 0.9830 - val_loss: 0.4992 - val_binary_accuracy: 0.8680\n",
      "Epoch 10/10\n",
      "21250/21250 [==============================] - 1s 41us/sample - loss: 0.0459 - binary_accuracy: 0.9879 - val_loss: 0.5452 - val_binary_accuracy: 0.8683\n",
      "Wall time: 9.6 s\n"
     ]
    }
   ],
   "source": [
    "%%time\n",
    "history = model.fit(x_train,\n",
    "                    y_train,\n",
    "                    validation_split=0.15,\n",
    "                    epochs=10, \n",
    "                    batch_size=512)"
   ]
  },
  {
   "cell_type": "code",
   "execution_count": 14,
   "metadata": {},
   "outputs": [
    {
     "data": {
      "image/png": "[encoded data removed]",
      "text/plain": [
       "<Figure size 432x288 with 1 Axes>"
      ]
     },
     "metadata": {
      "needs_background": "light"
     },
     "output_type": "display_data"
    }
   ],
   "source": [
    "%matplotlib inline\n",
    "plt.plot(history.history['binary_accuracy'], 'b')\n",
    "plt.plot(history.history['val_binary_accuracy'], 'bo')\n",
    "plt.title('Model accuracy')\n",
    "plt.ylabel('Accuracy')\n",
    "plt.xlabel('Epoch')\n",
    "plt.legend(['Train', 'Validation'], loc='upper left')\n",
    "plt.show()"
   ]
  },
  {
   "cell_type": "code",
   "execution_count": 15,
   "metadata": {},
   "outputs": [
    {
     "data": {
      "image/png": "[encoded data removed]",
      "text/plain": [
       "<Figure size 432x288 with 1 Axes>"
      ]
     },
     "metadata": {
      "needs_background": "light"
     },
     "output_type": "display_data"
    }
   ],
   "source": [
    "plt.plot(history.history['loss'], 'b')\n",
    "plt.plot(history.history['val_loss'], 'bo')\n",
    "plt.title('Model loss')\n",
    "plt.ylabel('Loss')\n",
    "plt.xlabel('Epoch')\n",
    "plt.legend(['Train', 'Test'], loc='upper left')\n",
    "plt.show()"
   ]
  },
  {
   "cell_type": "code",
   "execution_count": 21,
   "metadata": {},
   "outputs": [
    {
     "name": "stdout",
     "output_type": "stream",
     "text": [
      "Train on 25000 samples\n",
      "Epoch 1/4\n",
      "25000/25000 [==============================] - 1s 48us/sample - loss: 0.4349 - binary_accuracy: 0.8420\n",
      "Epoch 2/4\n",
      "25000/25000 [==============================] - 1s 40us/sample - loss: 0.2488 - binary_accuracy: 0.9139\n",
      "Epoch 3/4\n",
      "25000/25000 [==============================] - 1s 38us/sample - loss: 0.1899 - binary_accuracy: 0.9344\n",
      "Epoch 4/4\n",
      "25000/25000 [==============================] - 1s 37us/sample - loss: 0.1564 - binary_accuracy: 0.9451\n",
      "25000/25000 [==============================] - 1s 55us/sample - loss: 0.3257 - binary_accuracy: 0.8724\n"
     ]
    }
   ],
   "source": [
    "model = models.Sequential()\n",
    "model.add(layers.Dense(16, activation='relu', input_shape=(NUM_WORDS,)))\n",
    "model.add(layers.Dense(16, activation='relu'))\n",
    "model.add(layers.Dense(1, activation='sigmoid'))\n",
    "\n",
    "model.compile(optimizer=optimizers.RMSprop(lr=0.001),\n",
    "              loss=losses.binary_crossentropy,\n",
    "              metrics=[metrics.binary_accuracy])\n",
    "\n",
    "model.fit(x_train, y_train, epochs=4, batch_size=512)\n",
    "\n",
    "results = model.evaluate(x_test, y_test)"
   ]
  },
  {
   "cell_type": "code",
   "execution_count": 22,
   "metadata": {},
   "outputs": [
    {
     "data": {
      "text/plain": [
       "[0.3257300735378265, 0.8724]"
      ]
     },
     "execution_count": 22,
     "metadata": {},
     "output_type": "execute_result"
    }
   ],
   "source": [
    "results"
   ]
  },
  {
   "cell_type": "code",
   "execution_count": 24,
   "metadata": {},
   "outputs": [],
   "source": [
    "y_hat = model.predict(x_test)"
   ]
  },
  {
   "cell_type": "markdown",
   "metadata": {},
   "source": [
    "----\n",
    "## Using embeddings"
   ]
  }
 ],
 "metadata": {
  "kernelspec": {
   "display_name": "Python 3",
   "language": "python",
   "name": "python3"
  },
  "language_info": {
   "codemirror_mode": {
    "name": "ipython",
    "version": 3
   },
   "file_extension": ".py",
   "mimetype": "text/x-python",
   "name": "python",
   "nbconvert_exporter": "python",
   "pygments_lexer": "ipython3",
   "version": "3.7.4"
  }
 },
 "nbformat": 4,
 "nbformat_minor": 4
}
