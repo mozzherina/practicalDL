{
 "cells": [
  {
   "cell_type": "code",
   "execution_count": 41,
   "metadata": {},
   "outputs": [],
   "source": [
    "import matplotlib.pyplot as plt\n",
    "import tensorflow as tf"
   ]
  },
  {
   "cell_type": "code",
   "execution_count": 69,
   "metadata": {},
   "outputs": [],
   "source": [
    "w_true = 0.1\n",
    "b_true = 0.5"
   ]
  },
  {
   "cell_type": "code",
   "execution_count": 70,
   "metadata": {},
   "outputs": [],
   "source": [
    "def make_data(w=w_true, b=b_true, n =100):\n",
    "    x = tf.random.uniform(shape=(n,))\n",
    "    noise = tf.random.normal(shape=(len(x,),), mean=0.0, stddev=0.01)\n",
    "    y = w*x + b + noise\n",
    "    return x.numpy(), y.numpy()"
   ]
  },
  {
   "cell_type": "code",
   "execution_count": 47,
   "metadata": {},
   "outputs": [],
   "source": [
    "x, y = make_data()"
   ]
  },
  {
   "cell_type": "code",
   "execution_count": 58,
   "metadata": {},
   "outputs": [],
   "source": [
    " def predict(x, w, b):\n",
    "    y = w*x + b\n",
    "    return y"
   ]
  },
  {
   "cell_type": "code",
   "execution_count": 72,
   "metadata": {},
   "outputs": [
    {
     "data": {
      "text/plain": [
       "[<matplotlib.lines.Line2D at 0x265695b9d88>]"
      ]
     },
     "execution_count": 72,
     "metadata": {},
     "output_type": "execute_result"
    },
    {
     "data": {
      "image/png": "[encoded data removed]",
      "text/plain": [
       "<Figure size 432x288 with 1 Axes>"
      ]
     },
     "metadata": {
      "needs_background": "light"
     },
     "output_type": "display_data"
    }
   ],
   "source": [
    "%matplotlib inline\n",
    "plt.plot(x, y, 'b.')\n",
    "plt.plot(x, predict(x, w_true, b_true), 'g')"
   ]
  },
  {
   "cell_type": "code",
   "execution_count": 85,
   "metadata": {},
   "outputs": [],
   "source": [
    "def mse(y_hat, y):\n",
    "    return tf.reduce_mean(tf.square(y_hat - y))"
   ]
  },
  {
   "cell_type": "code",
   "execution_count": 90,
   "metadata": {},
   "outputs": [
    {
     "name": "stdout",
     "output_type": "stream",
     "text": [
      "Step 0 loss 0.30149975419044495\n",
      "Step 20 loss 0.002515257801860571\n",
      "Step 40 loss 0.0008293729042634368\n",
      "Step 60 loss 0.0006530657992698252\n",
      "Step 80 loss 0.0005238668527454138\n",
      "Step 100 loss 0.0004252230282872915\n",
      "Step 120 loss 0.00034988782135769725\n",
      "Step 140 loss 0.00029235382680781186\n",
      "Step 160 loss 0.0002484145516064018\n",
      "Step 180 loss 0.00021485780598595738\n"
     ]
    }
   ],
   "source": [
    "w_guess = tf.Variable(0.0)\n",
    "b_guess = tf.Variable(0.0)\n",
    "\n",
    "learning_rate = 0.05\n",
    "steps = 200\n",
    "\n",
    "for step in range(steps):\n",
    "    with tf.GradientTape() as tape:\n",
    "        y_hat = predict(x, w_guess, b_guess)\n",
    "        loss = mse(y_hat, y)\n",
    "        \n",
    "        grads = tape.gradient(loss, [w_guess, b_guess])\n",
    "        w_guess.assign_sub(grads[0]*learning_rate)\n",
    "        b_guess.assign_sub(grads[1]*learning_rate)\n",
    "        \n",
    "        if step % 20 == 0:\n",
    "            print(\"Step {} loss {}\".format(step, loss))            \n",
    "        "
   ]
  },
  {
   "cell_type": "code",
   "execution_count": 91,
   "metadata": {},
   "outputs": [
    {
     "name": "stdout",
     "output_type": "stream",
     "text": [
      "0.13487113\n",
      "0.48263526\n"
     ]
    }
   ],
   "source": [
    "print(w_guess.numpy())\n",
    "print(b_guess.numpy())"
   ]
  },
  {
   "cell_type": "code",
   "execution_count": 92,
   "metadata": {},
   "outputs": [
    {
     "data": {
      "text/plain": [
       "[<matplotlib.lines.Line2D at 0x265673a2148>]"
      ]
     },
     "execution_count": 92,
     "metadata": {},
     "output_type": "execute_result"
    },
    {
     "data": {
      "image/png": "[encoded data removed]",
      "text/plain": [
       "<Figure size 432x288 with 1 Axes>"
      ]
     },
     "metadata": {
      "needs_background": "light"
     },
     "output_type": "display_data"
    }
   ],
   "source": [
    "%matplotlib inline\n",
    "plt.plot(x, y, 'b.')\n",
    "plt.plot(x, predict(x, w_true, b_true), 'g')\n",
    "plt.plot(x, predict(x, w_guess, b_guess), 'r')"
   ]
  },
  {
   "cell_type": "code",
   "execution_count": null,
   "metadata": {},
   "outputs": [],
   "source": []
  }
 ],
 "metadata": {
  "kernelspec": {
   "display_name": "Python 3",
   "language": "python",
   "name": "python3"
  },
  "language_info": {
   "codemirror_mode": {
    "name": "ipython",
    "version": 3
   },
   "file_extension": ".py",
   "mimetype": "text/x-python",
   "name": "python",
   "nbconvert_exporter": "python",
   "pygments_lexer": "ipython3",
   "version": "3.7.4"
  }
 },
 "nbformat": 4,
 "nbformat_minor": 4
}
