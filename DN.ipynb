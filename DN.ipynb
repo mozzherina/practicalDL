{
 "cells": [
  {
   "cell_type": "code",
   "execution_count": 1,
   "metadata": {},
   "outputs": [],
   "source": [
    "import matplotlib.pyplot as plt\n",
    "import tensorflow as tf"
   ]
  },
  {
   "cell_type": "markdown",
   "metadata": {},
   "source": [
    "## Linear regression and gradients"
   ]
  },
  {
   "cell_type": "code",
   "execution_count": 2,
   "metadata": {},
   "outputs": [],
   "source": [
    "w_true = 0.1\n",
    "b_true = 0.5"
   ]
  },
  {
   "cell_type": "code",
   "execution_count": 3,
   "metadata": {},
   "outputs": [],
   "source": [
    "def make_data(w=w_true, b=b_true, n =100):\n",
    "    x = tf.random.uniform(shape=(n,))\n",
    "    noise = tf.random.normal(shape=(len(x,),), mean=0.0, stddev=0.01)\n",
    "    y = w*x + b + noise\n",
    "    return x.numpy(), y.numpy()"
   ]
  },
  {
   "cell_type": "code",
   "execution_count": 4,
   "metadata": {},
   "outputs": [],
   "source": [
    "x, y = make_data()"
   ]
  },
  {
   "cell_type": "code",
   "execution_count": 5,
   "metadata": {},
   "outputs": [],
   "source": [
    "def predict(x, w, b):\n",
    "    y = w*x + b\n",
    "    return y"
   ]
  },
  {
   "cell_type": "markdown",
   "metadata": {},
   "source": [
    "Original data:"
   ]
  },
  {
   "cell_type": "code",
   "execution_count": 6,
   "metadata": {},
   "outputs": [
    {
     "data": {
      "text/plain": [
       "[<matplotlib.lines.Line2D at 0x21039e97dc8>]"
      ]
     },
     "execution_count": 6,
     "metadata": {},
     "output_type": "execute_result"
    },
    {
     "data": {
      "image/png": "[encoded data removed]",
      "text/plain": [
       "<Figure size 432x288 with 1 Axes>"
      ]
     },
     "metadata": {
      "needs_background": "light"
     },
     "output_type": "display_data"
    }
   ],
   "source": [
    "%matplotlib inline\n",
    "plt.plot(x, y, 'b.')\n",
    "plt.plot(x, predict(x, w_true, b_true), 'g')"
   ]
  },
  {
   "cell_type": "markdown",
   "metadata": {},
   "source": [
    "Loss function:"
   ]
  },
  {
   "cell_type": "code",
   "execution_count": 7,
   "metadata": {},
   "outputs": [],
   "source": [
    "def mse(y_hat, y):\n",
    "    return tf.reduce_mean(tf.square(y_hat - y))"
   ]
  },
  {
   "cell_type": "markdown",
   "metadata": {},
   "source": [
    "Iterations using __gradient__:"
   ]
  },
  {
   "cell_type": "code",
   "execution_count": 8,
   "metadata": {},
   "outputs": [
    {
     "name": "stdout",
     "output_type": "stream",
     "text": [
      "Step 0 loss 0.3051566481590271\n",
      "Step 20 loss 0.0024343659169971943\n",
      "Step 40 loss 0.0009568794048391283\n",
      "Step 60 loss 0.0007659824332222342\n",
      "Step 80 loss 0.0006197073380462825\n",
      "Step 100 loss 0.0005045825382694602\n",
      "Step 120 loss 0.00041396135929971933\n",
      "Step 140 loss 0.0003426291514188051\n",
      "Step 160 loss 0.0002864794514607638\n",
      "Step 180 loss 0.000242281035752967\n"
     ]
    }
   ],
   "source": [
    "w_guess = tf.Variable(0.0)\n",
    "b_guess = tf.Variable(0.0)\n",
    "\n",
    "learning_rate = 0.05\n",
    "steps = 200\n",
    "\n",
    "for step in range(steps):\n",
    "    with tf.GradientTape() as tape:\n",
    "        y_hat = predict(x, w_guess, b_guess)\n",
    "        loss = mse(y_hat, y)\n",
    "        \n",
    "        grads = tape.gradient(loss, [w_guess, b_guess])\n",
    "        w_guess.assign_sub(grads[0]*learning_rate)\n",
    "        b_guess.assign_sub(grads[1]*learning_rate)\n",
    "        \n",
    "        if step % 20 == 0:\n",
    "            print(\"Step {} loss {}\".format(step, loss))            \n",
    "        "
   ]
  },
  {
   "cell_type": "markdown",
   "metadata": {},
   "source": [
    "Results:"
   ]
  },
  {
   "cell_type": "code",
   "execution_count": 9,
   "metadata": {},
   "outputs": [
    {
     "name": "stdout",
     "output_type": "stream",
     "text": [
      "0.14015837\n",
      "0.47792807\n"
     ]
    }
   ],
   "source": [
    "print(w_guess.numpy())\n",
    "print(b_guess.numpy())"
   ]
  },
  {
   "cell_type": "markdown",
   "metadata": {},
   "source": [
    "Resulting plot:"
   ]
  },
  {
   "cell_type": "code",
   "execution_count": 10,
   "metadata": {},
   "outputs": [
    {
     "data": {
      "text/plain": [
       "[<matplotlib.lines.Line2D at 0x2103a07d748>]"
      ]
     },
     "execution_count": 10,
     "metadata": {},
     "output_type": "execute_result"
    },
    {
     "data": {
      "image/png": "[encoded data removed]",
      "text/plain": [
       "<Figure size 432x288 with 1 Axes>"
      ]
     },
     "metadata": {
      "needs_background": "light"
     },
     "output_type": "display_data"
    }
   ],
   "source": [
    "%matplotlib inline\n",
    "plt.plot(x, y, 'b.')\n",
    "plt.plot(x, predict(x, w_true, b_true), 'g')\n",
    "plt.plot(x, predict(x, w_guess, b_guess), 'r')"
   ]
  },
  {
   "cell_type": "markdown",
   "metadata": {},
   "source": [
    "----"
   ]
  },
  {
   "cell_type": "code",
   "execution_count": null,
   "metadata": {},
   "outputs": [],
   "source": []
  }
 ],
 "metadata": {
  "kernelspec": {
   "display_name": "Python 3",
   "language": "python",
   "name": "python3"
  },
  "language_info": {
   "codemirror_mode": {
    "name": "ipython",
    "version": 3
   },
   "file_extension": ".py",
   "mimetype": "text/x-python",
   "name": "python",
   "nbconvert_exporter": "python",
   "pygments_lexer": "ipython3",
   "version": "3.7.4"
  }
 },
 "nbformat": 4,
 "nbformat_minor": 4
}
